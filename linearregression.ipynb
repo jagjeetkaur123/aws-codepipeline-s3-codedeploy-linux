{
  "nbformat": 4,
  "nbformat_minor": 0,
  "metadata": {
    "colab": {
      "provenance": [],
      "authorship_tag": "ABX9TyMyxa6b0I+5a27fcYQ1uYze",
      "include_colab_link": true
    },
    "kernelspec": {
      "name": "python3",
      "display_name": "Python 3"
    },
    "language_info": {
      "name": "python"
    }
  },
  "cells": [
    {
      "cell_type": "markdown",
      "metadata": {
        "id": "view-in-github",
        "colab_type": "text"
      },
      "source": [
        "<a href=\"https://colab.research.google.com/github/jagjeetkaur123/aws-codepipeline-s3-codedeploy-linux/blob/master/linearregression.ipynb\" target=\"_parent\"><img src=\"https://colab.research.google.com/assets/colab-badge.svg\" alt=\"Open In Colab\"/></a>"
      ]
    },
    {
      "cell_type": "code",
      "execution_count": 1,
      "metadata": {
        "id": "IjontB_bFgVC"
      },
      "outputs": [],
      "source": [
        "import numpy as np \n",
        "from sklearn.linear_model import LinearRegression \n"
      ]
    },
    {
      "cell_type": "code",
      "source": [
        "x = np.array([5,34,33,43,43,43]).reshape((-1,1))\n",
        "y = np.array([3,4,56,7,56,66])"
      ],
      "metadata": {
        "id": "oBQveX8Iguey"
      },
      "execution_count": 3,
      "outputs": []
    },
    {
      "cell_type": "code",
      "source": [
        "x"
      ],
      "metadata": {
        "colab": {
          "base_uri": "https://localhost:8080/"
        },
        "id": "YAfaia1MjFyI",
        "outputId": "26bfdda8-6717-450b-c151-a8e95c4d0af1"
      },
      "execution_count": 4,
      "outputs": [
        {
          "output_type": "execute_result",
          "data": {
            "text/plain": [
              "array([[ 5],\n",
              "       [34],\n",
              "       [33],\n",
              "       [43],\n",
              "       [43],\n",
              "       [43]])"
            ]
          },
          "metadata": {},
          "execution_count": 4
        }
      ]
    },
    {
      "cell_type": "code",
      "source": [
        "y\n"
      ],
      "metadata": {
        "colab": {
          "base_uri": "https://localhost:8080/"
        },
        "id": "1C5rJsl1jHYz",
        "outputId": "b9a81058-e63e-40fb-ba90-ac1aebea8304"
      },
      "execution_count": 5,
      "outputs": [
        {
          "output_type": "execute_result",
          "data": {
            "text/plain": [
              "array([ 3,  4, 56,  7, 56, 66])"
            ]
          },
          "metadata": {},
          "execution_count": 5
        }
      ]
    }
  ]
}