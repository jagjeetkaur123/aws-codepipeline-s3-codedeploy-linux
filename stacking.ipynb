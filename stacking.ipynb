{
  "nbformat": 4,
  "nbformat_minor": 0,
  "metadata": {
    "colab": {
      "provenance": [],
      "authorship_tag": "ABX9TyP1R3sZGJLvd0WIUEOCxyMe",
      "include_colab_link": true
    },
    "kernelspec": {
      "name": "python3",
      "display_name": "Python 3"
    },
    "language_info": {
      "name": "python"
    }
  },
  "cells": [
    {
      "cell_type": "markdown",
      "metadata": {
        "id": "view-in-github",
        "colab_type": "text"
      },
      "source": [
        "<a href=\"https://colab.research.google.com/github/jagjeetkaur123/aws-codepipeline-s3-codedeploy-linux/blob/master/stacking.ipynb\" target=\"_parent\"><img src=\"https://colab.research.google.com/assets/colab-badge.svg\" alt=\"Open In Colab\"/></a>"
      ]
    },
    {
      "cell_type": "code",
      "execution_count": 9,
      "metadata": {
        "id": "JpfaiA3p4LMr"
      },
      "outputs": [],
      "source": [
        "from sklearn.ensemble import RandomForestClassifier\n",
        "from sklearn.svm import LinearSVC \n",
        "from sklearn.linear_model import LogisticRegression\n",
        "from sklearn.naive_bayes import GaussianNB\n",
        "from sklearn.neighbors import KNeighborsClassifier\n",
        "from sklearn import model_selection\n"
      ]
    },
    {
      "cell_type": "code",
      "source": [
        "from sklearn.ensemble import StackingClassifier\n"
      ],
      "metadata": {
        "id": "e6_PJqWa_IqB"
      },
      "execution_count": 10,
      "outputs": []
    },
    {
      "cell_type": "code",
      "source": [
        "import warnings\n",
        "warnings.filterwarnings('ignore')"
      ],
      "metadata": {
        "id": "fQIuqC0w_o4j"
      },
      "execution_count": 11,
      "outputs": []
    },
    {
      "cell_type": "code",
      "source": [
        "from sklearn import datasets"
      ],
      "metadata": {
        "id": "BfR5-Rcu_wbZ"
      },
      "execution_count": 12,
      "outputs": []
    },
    {
      "cell_type": "code",
      "source": [
        "iris = datasets.load_iris()\n",
        "x_train, y_train = iris.data[:,1:3], iris.target"
      ],
      "metadata": {
        "id": "owywvHXjEtHj"
      },
      "execution_count": 13,
      "outputs": []
    },
    {
      "cell_type": "code",
      "source": [
        "myclf1 = KNeighborsClassifier(n_neighbors = 1)\n",
        "myclf2 = RandomForestClassifier(random_state = 1)\n",
        "myclf3 = GaussianNB()"
      ],
      "metadata": {
        "id": "csgASdJzFErI"
      },
      "execution_count": 14,
      "outputs": []
    },
    {
      "cell_type": "code",
      "source": [
        "mylr = LogisticRegression()"
      ],
      "metadata": {
        "id": "uY8bGOEDHP-A"
      },
      "execution_count": 15,
      "outputs": []
    },
    {
      "cell_type": "code",
      "source": [
        "from pandas.core.internals.managers import maybe_coerce_values\n",
        "stackingclf = StackingClassifier([myclf1, myclf2, myclf2], mylr)"
      ],
      "metadata": {
        "id": "uOXd21n8MT3Z"
      },
      "execution_count": 16,
      "outputs": []
    },
    {
      "cell_type": "code",
      "source": [
        "print('doing 3-fold cross validation here:\\n')\n",
        "for iterclf, iterlabel in zip([myclf1, myclf2, myclf3, stackingclf],\n",
        "                              ['K-Nearest Neighbours Model', 'Random Forest Model', 'Naive Bayes Model', 'StackingClassifier Mode']):\n",
        "  scores = model_selection.cross_val_score(iterclf, x_train, y_train, cv= 3, scoring = 'accuracy')\n",
        "\n",
        "  print('accuracy: %0.3f (+/- %0.3f)[%s]'\n",
        "         % (scores.mean(), scores.std(), iterlabel))"
      ],
      "metadata": {
        "id": "Duh7yyNJL6yr",
        "colab": {
          "base_uri": "https://localhost:8080/"
        },
        "outputId": "4942e910-9144-4382-e205-211ab5975967"
      },
      "execution_count": 19,
      "outputs": [
        {
          "output_type": "stream",
          "name": "stdout",
          "text": [
            "doing 3-fold cross validation here:\n",
            "\n",
            "accuracy: 0.907 (+/- 0.009)[K-Nearest Neighbours Model]\n",
            "accuracy: 0.953 (+/- 0.009)[Random Forest Model]\n",
            "accuracy: 0.913 (+/- 0.019)[Naive Bayes Model]\n",
            "accuracy: nan (+/- nan)[StackingClassifier Mode]\n"
          ]
        }
      ]
    }
  ]
}